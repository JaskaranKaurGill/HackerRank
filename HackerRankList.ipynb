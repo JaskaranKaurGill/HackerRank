{
 "cells": [
  {
   "cell_type": "code",
   "execution_count": null,
   "metadata": {},
   "outputs": [],
   "source": [
    "List=[]\n",
    "def pop(List):\n",
    "        List.pop()\n",
    "        \n",
    "def reverse(List):\n",
    "        List.reverse()\n",
    "        \n",
    "      \n",
    "    \n",
    "N = int(input())\n",
    "for i in range(N):\n",
    "        S = str(input())\n",
    "        S = S.split(\" \")\n",
    "        comand = S[0]\n",
    "        Integers = []\n",
    "        for j in range(len(S)-1):\n",
    "            Integers.append(int(S[j+1]))\n",
    "       \n",
    "        comand1 = \"List.\"+comand\n",
    "        if(Integers):\n",
    "        \n",
    "            eval(comand1)(*Integers)\n",
    "        else:\n",
    "            eval(comand)(List)\n"
   ]
  },
  {
   "cell_type": "code",
   "execution_count": null,
   "metadata": {},
   "outputs": [],
   "source": []
  },
  {
   "cell_type": "code",
   "execution_count": null,
   "metadata": {},
   "outputs": [],
   "source": []
  }
 ],
 "metadata": {
  "kernelspec": {
   "display_name": "Python 3",
   "language": "python",
   "name": "python3"
  },
  "language_info": {
   "codemirror_mode": {
    "name": "ipython",
    "version": 3
   },
   "file_extension": ".py",
   "mimetype": "text/x-python",
   "name": "python",
   "nbconvert_exporter": "python",
   "pygments_lexer": "ipython3",
   "version": "3.8.3"
  }
 },
 "nbformat": 4,
 "nbformat_minor": 4
}
